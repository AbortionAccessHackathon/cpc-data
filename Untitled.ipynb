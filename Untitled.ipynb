{
 "cells": [
  {
   "cell_type": "code",
   "execution_count": 12,
   "metadata": {
    "collapsed": false,
    "deletable": true,
    "editable": true
   },
   "outputs": [
    {
     "data": {
      "text/plain": [
       "{u'active_primary_shards': 5,\n",
       " u'active_shards': 5,\n",
       " u'active_shards_percent_as_number': 50.0,\n",
       " u'cluster_name': u'docker-cluster',\n",
       " u'delayed_unassigned_shards': 0,\n",
       " u'initializing_shards': 0,\n",
       " u'number_of_data_nodes': 1,\n",
       " u'number_of_in_flight_fetch': 0,\n",
       " u'number_of_nodes': 1,\n",
       " u'number_of_pending_tasks': 0,\n",
       " u'relocating_shards': 0,\n",
       " u'status': u'yellow',\n",
       " u'task_max_waiting_in_queue_millis': 0,\n",
       " u'timed_out': False,\n",
       " u'unassigned_shards': 5}"
      ]
     },
     "execution_count": 12,
     "metadata": {},
     "output_type": "execute_result"
    }
   ],
   "source": [
    "from __future__ import division\n",
    "import pandas as pd\n",
    "from fuzzywuzzy import fuzz, process\n",
    "import editdistance\n",
    "import json\n",
    "import sys\n",
    "import difflib \n",
    "from multiprocessing import Pool\n",
    "from elasticsearch import Elasticsearch\n",
    "es = Elasticsearch(['elastic:changeme@127.0.0.1:9200'])"
   ]
  },
  {
   "cell_type": "code",
   "execution_count": 2,
   "metadata": {
    "collapsed": true,
    "deletable": true,
    "editable": true
   },
   "outputs": [],
   "source": [
    "cpc = pd.read_excel(\"CPC.xlsx\")\n",
    "cpc_names = cpc['Name'].unique()\n",
    "\n",
    "with open('index_2015.json') as data_file:\n",
    "    data = json.load(data_file)"
   ]
  },
  {
   "cell_type": "code",
   "execution_count": 3,
   "metadata": {
    "collapsed": false,
    "deletable": true,
    "editable": true
   },
   "outputs": [],
   "source": [
    "json_columns = ['EIN', 'DLN', 'OrganizationName', 'ObjectId']\n",
    "index_df = pd.DataFrame(data = {'EIN': [row['EIN'] for row in data['Filings2015']], \n",
    "                                'DLN': [row['DLN'] for row in data['Filings2015']], \n",
    "                                'OrganizationName': [row['OrganizationName'] for row in data['Filings2015']],\n",
    "                                'ObjectId': [row['ObjectId'] for row in data['Filings2015']]})"
   ]
  },
  {
   "cell_type": "code",
   "execution_count": 13,
   "metadata": {
    "collapsed": false,
    "deletable": true,
    "editable": true,
    "scrolled": true
   },
   "outputs": [
    {
     "name": "stdout",
     "output_type": "stream",
     "text": [
      "Download progress: 131%   \r"
     ]
    },
    {
     "name": "stderr",
     "output_type": "stream",
     "text": [
      "/usr/local/lib/python2.7/site-packages/elasticsearch/client/__init__.py:255: UnicodeWarning: Unicode equal comparison failed to convert both arguments to Unicode - interpreting them as being unequal\n",
      "  if param in SKIP_IN_PATH:\n",
      "/usr/local/lib/python2.7/site-packages/elasticsearch/client/utils.py:47: UnicodeWarning: Unicode equal comparison failed to convert both arguments to Unicode - interpreting them as being unequal\n",
      "  quote_plus(_escape(p), b',*') for p in parts if p not in SKIP_IN_PATH)\n"
     ]
    },
    {
     "name": "stdout",
     "output_type": "stream",
     "text": [
      "Download progress: 261033%   \r"
     ]
    }
   ],
   "source": [
    "for i, row in index_df.iterrows():\n",
    "    sys.stdout.write(\"Download progress: %d%%   \\r\" % (i))\n",
    "    sys.stdout.flush()\n",
    "    es.create(index=\"test\", doc_type=\"cpc_info\", id=i+1, body={\"OrganizationName\": row['OrganizationName'], \"EIN\": row['EIN'], \"DLN\": row['DLN'], \"ObjectId\": row['ObjectId']})\n",
    "    \n",
    "    "
   ]
  },
  {
   "cell_type": "code",
   "execution_count": null,
   "metadata": {
    "collapsed": true,
    "deletable": true,
    "editable": true
   },
   "outputs": [],
   "source": [
    "best_match = {}\n",
    "for name in cpc_names:\n",
    "    res = es.search(index=\"test\", doc_type=\"cpc_info\", body={\"query\": {\"match\": {\"OrganizationName\": name}}})\n",
    "    best_match[name] = res['hits']['hits'][0]"
   ]
  }
 ],
 "metadata": {
  "kernelspec": {
   "display_name": "Python 2",
   "language": "python",
   "name": "python2"
  },
  "language_info": {
   "codemirror_mode": {
    "name": "ipython",
    "version": 2
   },
   "file_extension": ".py",
   "mimetype": "text/x-python",
   "name": "python",
   "nbconvert_exporter": "python",
   "pygments_lexer": "ipython2",
   "version": "2.7.13"
  }
 },
 "nbformat": 4,
 "nbformat_minor": 2
}
