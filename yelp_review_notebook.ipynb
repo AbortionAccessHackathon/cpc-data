{
 "cells": [
  {
   "cell_type": "code",
   "execution_count": null,
   "metadata": {},
   "outputs": [],
   "source": [
    "# copied from\n",
    "# https://github.com/Yelp/yelp-fusion/blob/master/fusion/python/sample.py\n",
    "\n",
    "\n",
    "from __future__ import print_function\n",
    "\n",
    "import argparse\n",
    "import json\n",
    "import pprint\n",
    "import requests\n",
    "import sys\n",
    "import urllib\n",
    "\n",
    "\n",
    "# This client code can run on Python 2.x or 3.x.  Your imports can be\n",
    "# simpler if you only need one of those.\n",
    "try:\n",
    "    # For Python 3.0 and later\n",
    "    from urllib.error import HTTPError\n",
    "    from urllib.parse import quote\n",
    "    from urllib.parse import urlencode\n",
    "except ImportError:\n",
    "    # Fall back to Python 2's urllib2 and urllib\n",
    "    from urllib2 import HTTPError\n",
    "    from urllib import quote\n",
    "    from urllib import urlencode\n",
    "\n",
    "\n",
    "# OAuth credential placeholders that must be filled in by users.\n",
    "# You can find them on\n",
    "# https://www.yelp.com/developers/v3/manage_app\n",
    "CLIENT_ID = None # Insert yours here!\n",
    "CLIENT_SECRET = None # Insert yours here!\n",
    "\n",
    "# API constants, you shouldn't have to change these.\n",
    "API_HOST = 'https://api.yelp.com'\n",
    "SEARCH_PATH = '/v3/businesses/search'\n",
    "BUSINESS_PATH = '/v3/businesses/'  # Business ID will come after slash.\n",
    "TOKEN_PATH = '/oauth2/token'\n",
    "GRANT_TYPE = 'client_credentials'\n",
    "\n",
    "\n",
    "# Defaults for our simple example.\n",
    "DEFAULT_TERM = 'dinner'\n",
    "DEFAULT_LOCATION = 'San Francisco, CA'\n",
    "SEARCH_LIMIT = 3\n",
    "\n",
    "\n",
    "def obtain_bearer_token(host, path):\n",
    "    \"\"\"Given a bearer token, send a GET request to the API.\n",
    "    Args:\n",
    "        host (str): The domain host of the API.\n",
    "        path (str): The path of the API after the domain.\n",
    "        url_params (dict): An optional set of query parameters in the request.\n",
    "    Returns:\n",
    "        str: OAuth bearer token, obtained using client_id and client_secret.\n",
    "    Raises:\n",
    "        HTTPError: An error occurs from the HTTP request.\n",
    "    \"\"\"\n",
    "    url = '{0}{1}'.format(host, quote(path.encode('utf8')))\n",
    "    assert CLIENT_ID, \"Please supply your client_id.\"\n",
    "    assert CLIENT_SECRET, \"Please supply your client_secret.\"\n",
    "    data = urlencode({\n",
    "        'client_id': CLIENT_ID,\n",
    "        'client_secret': CLIENT_SECRET,\n",
    "        'grant_type': GRANT_TYPE,\n",
    "    })\n",
    "    headers = {\n",
    "        'content-type': 'application/x-www-form-urlencoded',\n",
    "    }\n",
    "    response = requests.request('POST', url, data=data, headers=headers)\n",
    "    bearer_token = response.json()['access_token']\n",
    "    return bearer_token\n",
    "\n",
    "\n",
    "def request(host, path, bearer_token, url_params=None):\n",
    "    \"\"\"Given a bearer token, send a GET request to the API.\n",
    "    Args:\n",
    "        host (str): The domain host of the API.\n",
    "        path (str): The path of the API after the domain.\n",
    "        bearer_token (str): OAuth bearer token, obtained using client_id and client_secret.\n",
    "        url_params (dict): An optional set of query parameters in the request.\n",
    "    Returns:\n",
    "        dict: The JSON response from the request.\n",
    "    Raises:\n",
    "        HTTPError: An error occurs from the HTTP request.\n",
    "    \"\"\"\n",
    "    url_params = url_params or {}\n",
    "    url = '{0}{1}'.format(host, quote(path.encode('utf8')))\n",
    "    headers = {\n",
    "        'Authorization': 'Bearer %s' % bearer_token,\n",
    "    }\n",
    "\n",
    "    print(u'Querying {0} ...'.format(url))\n",
    "\n",
    "    response = requests.request('GET', url, headers=headers, params=url_params)\n",
    "\n",
    "    return response.json()\n"
   ]
  },
  {
   "cell_type": "code",
   "execution_count": null,
   "metadata": {
    "collapsed": true
   },
   "outputs": [],
   "source": [
    "token = obtain_bearer_token(API_HOST, TOKEN_PATH)\n"
   ]
  },
  {
   "cell_type": "code",
   "execution_count": null,
   "metadata": {
    "collapsed": true
   },
   "outputs": [],
   "source": [
    "import time\n",
    "import pandas as pd\n",
    "X = pd.read_csv('/Users/adamkelleher/Downloads/CPC990AllData.csv')"
   ]
  },
  {
   "cell_type": "code",
   "execution_count": null,
   "metadata": {
    "scrolled": true
   },
   "outputs": [],
   "source": [
    "phone_info = {}\n",
    "for phone in X['ORGBOOKPHONE']:\n",
    "    if phone:\n",
    "        try:\n",
    "            number = '+1{}'.format(int(phone))\n",
    "            path = '/v3/businesses/search/phone'\n",
    "            phone_info[phone] = request(API_HOST, path, token, url_params={'phone': number})\n",
    "            print(phone_info[phone])\n",
    "        except:\n",
    "            pass\n"
   ]
  },
  {
   "cell_type": "code",
   "execution_count": null,
   "metadata": {
    "scrolled": true
   },
   "outputs": [],
   "source": [
    "{k: v for k, v in phone_info.items() if v.get('total', 0) > 0}"
   ]
  },
  {
   "cell_type": "code",
   "execution_count": null,
   "metadata": {},
   "outputs": [],
   "source": [
    "phone_info = {}\n",
    "for phone in X['ORGBOOKPHONE']:\n",
    "    if phone:\n",
    "        try:\n",
    "            number = '+1{}'.format(int(phone))\n",
    "            path = '/v3/businesses/search/phone'\n",
    "            phone_info[phone] = request(API_HOST, path, token, url_params={'phone': number})\n",
    "            print(phone_info[phone])\n",
    "        except:\n",
    "            pass"
   ]
  },
  {
   "cell_type": "code",
   "execution_count": null,
   "metadata": {
    "scrolled": true
   },
   "outputs": [],
   "source": [
    "location_info = {}\n",
    "for i, (location, ein) in X[['LOCATION', 'EIN']].iterrows():\n",
    "    if location:\n",
    "        try:\n",
    "            path = '/v3/businesses/search'\n",
    "            location_info[ein] = request(API_HOST, path, token, url_params={'location': location})\n",
    "        except:\n",
    "            pass"
   ]
  },
  {
   "cell_type": "code",
   "execution_count": null,
   "metadata": {},
   "outputs": [],
   "source": [
    "X['LOCATION'] = X['ADDRESS'] + ', ' + X['CITY'] + ', ' + X['STATE'] + ', ' + X['ZIP'].apply(str)"
   ]
  },
  {
   "cell_type": "code",
   "execution_count": null,
   "metadata": {
    "scrolled": true
   },
   "outputs": [],
   "source": [
    "for i, (location, ein) in X[['LOCATION', 'EIN']].iterrows():\n",
    "    pass"
   ]
  },
  {
   "cell_type": "code",
   "execution_count": null,
   "metadata": {},
   "outputs": [],
   "source": [
    "location_info.values()[:10]"
   ]
  },
  {
   "cell_type": "code",
   "execution_count": null,
   "metadata": {},
   "outputs": [],
   "source": [
    "location = '4 GINGER CREEK PARKWAY, GLEN CARBON, IL, 62034'\n",
    "path = '/v3/businesses/search'\n",
    "request(API_HOST, path, token, url_params={'location': location})"
   ]
  },
  {
   "cell_type": "code",
   "execution_count": null,
   "metadata": {
    "collapsed": true
   },
   "outputs": [],
   "source": []
  }
 ],
 "metadata": {
  "kernelspec": {
   "display_name": "Python 2",
   "language": "python",
   "name": "python2"
  },
  "language_info": {
   "codemirror_mode": {
    "name": "ipython",
    "version": 2
   },
   "file_extension": ".py",
   "mimetype": "text/x-python",
   "name": "python",
   "nbconvert_exporter": "python",
   "pygments_lexer": "ipython2",
   "version": "2.7.12"
  }
 },
 "nbformat": 4,
 "nbformat_minor": 2
}
